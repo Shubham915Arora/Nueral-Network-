{
 "cells": [
  {
   "cell_type": "markdown",
   "metadata": {},
   "source": [
    "# Implementing Nueral Network "
   ]
  },
  {
   "cell_type": "code",
   "execution_count": 1,
   "metadata": {},
   "outputs": [],
   "source": [
    "import numpy as np \n"
   ]
  },
  {
   "cell_type": "code",
   "execution_count": 2,
   "metadata": {},
   "outputs": [],
   "source": [
    "# Model Parameters \n",
    "\n",
    "input_size=2\n",
    "layers=[4,3]\n",
    "output_size=2\n"
   ]
  },
  {
   "cell_type": "code",
   "execution_count": 3,
   "metadata": {},
   "outputs": [],
   "source": [
    "# Defining the Architecture \n",
    "\n",
    "class NueralNetworks :\n",
    "    \n",
    "    def __init__(self,input_size,layers,output_size):\n",
    "        \n",
    "        np.random.seed(0)\n",
    "        \n",
    "        model={}\n",
    "        \n",
    "        #Layer 1\n",
    "        \n",
    "        model[\"W1\"]=np.random.randn(input_size,layers[0])\n",
    "        model[\"b1\"]=np.zeros(1,layers[0])\n",
    "        \n",
    "        #Layer 2\n",
    "        \n",
    "        model[\"W2\"]=np.random.randn(layer[0],layer[1])\n",
    "        model[\"b2\"]=np.zeros((1,layers[1]))\n",
    "        \n",
    "        #Layer 3\n",
    "        \n",
    "        model[\"W3\"]=np.random.randn(layer[1],ouput_size)\n",
    "        model[\"b3\"]=np.zeros((1,output_size))\n",
    "        \n",
    "        self.model=model\n",
    "        \n",
    "        \n",
    "\n"
   ]
  },
  {
   "cell_type": "code",
   "execution_count": null,
   "metadata": {},
   "outputs": [],
   "source": []
  },
  {
   "cell_type": "code",
   "execution_count": null,
   "metadata": {},
   "outputs": [],
   "source": []
  }
 ],
 "metadata": {
  "kernelspec": {
   "display_name": "Python 3",
   "language": "python",
   "name": "python3"
  },
  "language_info": {
   "codemirror_mode": {
    "name": "ipython",
    "version": 3
   },
   "file_extension": ".py",
   "mimetype": "text/x-python",
   "name": "python",
   "nbconvert_exporter": "python",
   "pygments_lexer": "ipython3",
   "version": "3.7.3"
  }
 },
 "nbformat": 4,
 "nbformat_minor": 2
}
